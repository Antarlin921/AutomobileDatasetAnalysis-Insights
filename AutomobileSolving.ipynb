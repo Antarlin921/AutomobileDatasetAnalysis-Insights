{
 "cells": [
  {
   "cell_type": "code",
   "execution_count": 186,
   "metadata": {},
   "outputs": [],
   "source": [
    "import numpy as np \n",
    "import pandas as pd\n",
    "import matplotlib.pyplot as plt\n",
    "from datetime import datetime\n",
    "import seaborn as sns"
   ]
  },
  {
   "cell_type": "code",
   "execution_count": 187,
   "metadata": {},
   "outputs": [
    {
     "name": "stderr",
     "output_type": "stream",
     "text": [
      "D:\\ProgramData\\Anaconda3\\lib\\site-packages\\IPython\\core\\interactiveshell.py:3444: DtypeWarning: Columns (6) have mixed types.Specify dtype option on import or set low_memory=False.\n",
      "  exec(code_obj, self.user_global_ns, self.user_ns)\n"
     ]
    }
   ],
   "source": [
    "df=pd.read_csv('inspectiondata.csv',parse_dates=['SALE_DT','REPORT_DT','REPAIR_DT'],keep_date_col = True)"
   ]
  },
  {
   "cell_type": "code",
   "execution_count": 188,
   "metadata": {},
   "outputs": [
    {
     "data": {
      "text/html": [
       "<div>\n",
       "<style scoped>\n",
       "    .dataframe tbody tr th:only-of-type {\n",
       "        vertical-align: middle;\n",
       "    }\n",
       "\n",
       "    .dataframe tbody tr th {\n",
       "        vertical-align: top;\n",
       "    }\n",
       "\n",
       "    .dataframe thead th {\n",
       "        text-align: right;\n",
       "    }\n",
       "</style>\n",
       "<table border=\"1\" class=\"dataframe\">\n",
       "  <thead>\n",
       "    <tr style=\"text-align: right;\">\n",
       "      <th></th>\n",
       "      <th>id</th>\n",
       "      <th>KMS</th>\n",
       "      <th>SALE_DT</th>\n",
       "      <th>REPORT_DT</th>\n",
       "      <th>REPAIR_DT</th>\n",
       "      <th>MODEL</th>\n",
       "      <th>SUB_MODEL</th>\n",
       "      <th>CMPL_DESC</th>\n",
       "      <th>INVESTIGATION</th>\n",
       "      <th>ACTION_TAKEN</th>\n",
       "      <th>REG_NO</th>\n",
       "    </tr>\n",
       "  </thead>\n",
       "  <tbody>\n",
       "    <tr>\n",
       "      <th>0</th>\n",
       "      <td>1</td>\n",
       "      <td>221928.0</td>\n",
       "      <td>2014-10-30</td>\n",
       "      <td>2017-10-22</td>\n",
       "      <td>2017-10-29</td>\n",
       "      <td>2518TC-LPT</td>\n",
       "      <td>HCV-TRUCKS</td>\n",
       "      <td>VEHICLE HAS COME WITH COMPLAINT OIL LEACKEGE F...</td>\n",
       "      <td>AFTER INVESTIGATION WE FOUND MINOR CRAKE ON RE...</td>\n",
       "      <td>WE HAVE REPLACED REAR AXLE TUBE U/WARRANTYDEFE...</td>\n",
       "      <td>HR38U8155</td>\n",
       "    </tr>\n",
       "    <tr>\n",
       "      <th>1</th>\n",
       "      <td>2</td>\n",
       "      <td>221928.0</td>\n",
       "      <td>2014-10-30</td>\n",
       "      <td>2017-10-22</td>\n",
       "      <td>2017-10-29</td>\n",
       "      <td>2518TC-LPT</td>\n",
       "      <td>HCV-TRUCKS</td>\n",
       "      <td>VEHICLE HAS COME WITH COMPLAINT OIL LEACKEGE F...</td>\n",
       "      <td>AFTER INVESTIGATION WE FOUND MINOR CRAKE ON RE...</td>\n",
       "      <td>WE HAVE REPLACED REAR AXLE TUBE U/WARRANTYDEFE...</td>\n",
       "      <td>HR38U8155</td>\n",
       "    </tr>\n",
       "    <tr>\n",
       "      <th>2</th>\n",
       "      <td>3</td>\n",
       "      <td>221928.0</td>\n",
       "      <td>2014-10-30</td>\n",
       "      <td>2017-10-22</td>\n",
       "      <td>2017-10-29</td>\n",
       "      <td>2518TC-LPT</td>\n",
       "      <td>HCV-TRUCKS</td>\n",
       "      <td>VEHICLE HAS COME WITH COMPLAINT OIL LEACKEGE F...</td>\n",
       "      <td>AFTER INVESTIGATION WE FOUND MINOR CRAKE ON RE...</td>\n",
       "      <td>WE HAVE REPLACED REAR AXLE TUBE U/WARRANTYDEFE...</td>\n",
       "      <td>HR38U8155</td>\n",
       "    </tr>\n",
       "    <tr>\n",
       "      <th>3</th>\n",
       "      <td>4</td>\n",
       "      <td>185050.0</td>\n",
       "      <td>2014-02-28</td>\n",
       "      <td>2017-12-21</td>\n",
       "      <td>2017-12-21</td>\n",
       "      <td>3518TC-LPS</td>\n",
       "      <td>HCV-TRUCKS</td>\n",
       "      <td>DIFFERENTIAL NOISY.</td>\n",
       "      <td>AFTER INVESTIGATION WE ARE FOUND THAT CROWN TA...</td>\n",
       "      <td>ALL JOB CARRIED OUT UNDER WARRANTY.</td>\n",
       "      <td>NL01L2162</td>\n",
       "    </tr>\n",
       "    <tr>\n",
       "      <th>4</th>\n",
       "      <td>5</td>\n",
       "      <td>185050.0</td>\n",
       "      <td>2014-02-28</td>\n",
       "      <td>2017-12-21</td>\n",
       "      <td>2017-12-21</td>\n",
       "      <td>3518TC-LPS</td>\n",
       "      <td>HCV-TRUCKS</td>\n",
       "      <td>DIFFERENTIAL NOISY.</td>\n",
       "      <td>AFTER INVESTIGATION WE ARE FOUND THAT CROWN TA...</td>\n",
       "      <td>ALL JOB CARRIED OUT UNDER WARRANTY.</td>\n",
       "      <td>NL01L2162</td>\n",
       "    </tr>\n",
       "  </tbody>\n",
       "</table>\n",
       "</div>"
      ],
      "text/plain": [
       "   id       KMS    SALE_DT  REPORT_DT  REPAIR_DT       MODEL   SUB_MODEL  \\\n",
       "0   1  221928.0 2014-10-30 2017-10-22 2017-10-29  2518TC-LPT  HCV-TRUCKS   \n",
       "1   2  221928.0 2014-10-30 2017-10-22 2017-10-29  2518TC-LPT  HCV-TRUCKS   \n",
       "2   3  221928.0 2014-10-30 2017-10-22 2017-10-29  2518TC-LPT  HCV-TRUCKS   \n",
       "3   4  185050.0 2014-02-28 2017-12-21 2017-12-21  3518TC-LPS  HCV-TRUCKS   \n",
       "4   5  185050.0 2014-02-28 2017-12-21 2017-12-21  3518TC-LPS  HCV-TRUCKS   \n",
       "\n",
       "                                           CMPL_DESC  \\\n",
       "0  VEHICLE HAS COME WITH COMPLAINT OIL LEACKEGE F...   \n",
       "1  VEHICLE HAS COME WITH COMPLAINT OIL LEACKEGE F...   \n",
       "2  VEHICLE HAS COME WITH COMPLAINT OIL LEACKEGE F...   \n",
       "3                                DIFFERENTIAL NOISY.   \n",
       "4                                DIFFERENTIAL NOISY.   \n",
       "\n",
       "                                       INVESTIGATION  \\\n",
       "0  AFTER INVESTIGATION WE FOUND MINOR CRAKE ON RE...   \n",
       "1  AFTER INVESTIGATION WE FOUND MINOR CRAKE ON RE...   \n",
       "2  AFTER INVESTIGATION WE FOUND MINOR CRAKE ON RE...   \n",
       "3  AFTER INVESTIGATION WE ARE FOUND THAT CROWN TA...   \n",
       "4  AFTER INVESTIGATION WE ARE FOUND THAT CROWN TA...   \n",
       "\n",
       "                                        ACTION_TAKEN     REG_NO  \n",
       "0  WE HAVE REPLACED REAR AXLE TUBE U/WARRANTYDEFE...  HR38U8155  \n",
       "1  WE HAVE REPLACED REAR AXLE TUBE U/WARRANTYDEFE...  HR38U8155  \n",
       "2  WE HAVE REPLACED REAR AXLE TUBE U/WARRANTYDEFE...  HR38U8155  \n",
       "3                ALL JOB CARRIED OUT UNDER WARRANTY.  NL01L2162  \n",
       "4                ALL JOB CARRIED OUT UNDER WARRANTY.  NL01L2162  "
      ]
     },
     "execution_count": 188,
     "metadata": {},
     "output_type": "execute_result"
    }
   ],
   "source": [
    "df.head()"
   ]
  },
  {
   "cell_type": "code",
   "execution_count": 189,
   "metadata": {},
   "outputs": [],
   "source": [
    "# Registration were found to to be duplicates\n",
    "df=df.drop_duplicates('REG_NO') #since registration numbers are duplicated\n",
    "df=df.reset_index()"
   ]
  },
  {
   "cell_type": "code",
   "execution_count": 190,
   "metadata": {},
   "outputs": [],
   "source": [
    "# Q1. Make a statistical analysis ( count, mean, std dev, quartile etc) of the time diffference between the sales and the report dates over the entire data. Make a suitable histogram \n",
    "# representation, a distribution plot (a continuous curve depicting of the results), and a box plot of the results."
   ]
  },
  {
   "cell_type": "code",
   "execution_count": 191,
   "metadata": {},
   "outputs": [
    {
     "data": {
      "text/plain": [
       "0       2014-10-30\n",
       "1       2014-02-28\n",
       "2       2014-08-29\n",
       "3       2015-08-25\n",
       "4       2014-11-14\n",
       "           ...    \n",
       "49380   2017-07-31\n",
       "49381   2017-08-31\n",
       "49382   2017-09-30\n",
       "49383   2016-06-30\n",
       "49384   2017-12-31\n",
       "Name: SALE_DT, Length: 49385, dtype: datetime64[ns]"
      ]
     },
     "execution_count": 191,
     "metadata": {},
     "output_type": "execute_result"
    }
   ],
   "source": [
    "df['SALE_DT']"
   ]
  },
  {
   "cell_type": "code",
   "execution_count": 192,
   "metadata": {},
   "outputs": [],
   "source": [
    "#Time diffference between the sales and the report dates over the entire data"
   ]
  },
  {
   "cell_type": "code",
   "execution_count": 193,
   "metadata": {},
   "outputs": [],
   "source": [
    "df['diff'] = df['REPORT_DT'] - df['SALE_DT']"
   ]
  },
  {
   "cell_type": "code",
   "execution_count": 194,
   "metadata": {},
   "outputs": [
    {
     "data": {
      "text/html": [
       "<div>\n",
       "<style scoped>\n",
       "    .dataframe tbody tr th:only-of-type {\n",
       "        vertical-align: middle;\n",
       "    }\n",
       "\n",
       "    .dataframe tbody tr th {\n",
       "        vertical-align: top;\n",
       "    }\n",
       "\n",
       "    .dataframe thead th {\n",
       "        text-align: right;\n",
       "    }\n",
       "</style>\n",
       "<table border=\"1\" class=\"dataframe\">\n",
       "  <thead>\n",
       "    <tr style=\"text-align: right;\">\n",
       "      <th></th>\n",
       "      <th>index</th>\n",
       "      <th>id</th>\n",
       "      <th>KMS</th>\n",
       "      <th>SALE_DT</th>\n",
       "      <th>REPORT_DT</th>\n",
       "      <th>REPAIR_DT</th>\n",
       "      <th>MODEL</th>\n",
       "      <th>SUB_MODEL</th>\n",
       "      <th>CMPL_DESC</th>\n",
       "      <th>INVESTIGATION</th>\n",
       "      <th>ACTION_TAKEN</th>\n",
       "      <th>REG_NO</th>\n",
       "      <th>diff</th>\n",
       "    </tr>\n",
       "  </thead>\n",
       "  <tbody>\n",
       "    <tr>\n",
       "      <th>0</th>\n",
       "      <td>0</td>\n",
       "      <td>1</td>\n",
       "      <td>221928.0</td>\n",
       "      <td>2014-10-30</td>\n",
       "      <td>2017-10-22</td>\n",
       "      <td>2017-10-29</td>\n",
       "      <td>2518TC-LPT</td>\n",
       "      <td>HCV-TRUCKS</td>\n",
       "      <td>VEHICLE HAS COME WITH COMPLAINT OIL LEACKEGE F...</td>\n",
       "      <td>AFTER INVESTIGATION WE FOUND MINOR CRAKE ON RE...</td>\n",
       "      <td>WE HAVE REPLACED REAR AXLE TUBE U/WARRANTYDEFE...</td>\n",
       "      <td>HR38U8155</td>\n",
       "      <td>1088 days</td>\n",
       "    </tr>\n",
       "    <tr>\n",
       "      <th>1</th>\n",
       "      <td>3</td>\n",
       "      <td>4</td>\n",
       "      <td>185050.0</td>\n",
       "      <td>2014-02-28</td>\n",
       "      <td>2017-12-21</td>\n",
       "      <td>2017-12-21</td>\n",
       "      <td>3518TC-LPS</td>\n",
       "      <td>HCV-TRUCKS</td>\n",
       "      <td>DIFFERENTIAL NOISY.</td>\n",
       "      <td>AFTER INVESTIGATION WE ARE FOUND THAT CROWN TA...</td>\n",
       "      <td>ALL JOB CARRIED OUT UNDER WARRANTY.</td>\n",
       "      <td>NL01L2162</td>\n",
       "      <td>1392 days</td>\n",
       "    </tr>\n",
       "    <tr>\n",
       "      <th>2</th>\n",
       "      <td>11</td>\n",
       "      <td>12</td>\n",
       "      <td>217890.0</td>\n",
       "      <td>2014-08-29</td>\n",
       "      <td>2017-12-21</td>\n",
       "      <td>2017-12-21</td>\n",
       "      <td>2518TC-LPT</td>\n",
       "      <td>HCV-TRUCKS</td>\n",
       "      <td>VEHICLE HAS BRAKEDOWN WITH CAC COMPLAINT REAR ...</td>\n",
       "      <td>WE HAVE ATTEND THE VEHICLE ON SIDE FOUND THAT ...</td>\n",
       "      <td>REPLACED REAR AXLE TUBE UNDER WARRANTYDEFER.TX...</td>\n",
       "      <td>UP82T2306</td>\n",
       "      <td>1210 days</td>\n",
       "    </tr>\n",
       "    <tr>\n",
       "      <th>3</th>\n",
       "      <td>14</td>\n",
       "      <td>15</td>\n",
       "      <td>150723.0</td>\n",
       "      <td>2015-08-25</td>\n",
       "      <td>2017-12-13</td>\n",
       "      <td>2017-12-14</td>\n",
       "      <td>2518TC-LPT</td>\n",
       "      <td>HCV-TRUCKS</td>\n",
       "      <td>ASSY GEAR BOX NOISY</td>\n",
       "      <td>VEHICLE CAME IN OUR WORKSHOP ASSY GEAR BOX NOI...</td>\n",
       "      <td>REPLCED UNDER WARRANTYDEFER.TXT 0006</td>\n",
       "      <td>UP15CT2727</td>\n",
       "      <td>841 days</td>\n",
       "    </tr>\n",
       "    <tr>\n",
       "      <th>4</th>\n",
       "      <td>22</td>\n",
       "      <td>23</td>\n",
       "      <td>162639.0</td>\n",
       "      <td>2014-11-14</td>\n",
       "      <td>2017-12-18</td>\n",
       "      <td>2017-12-18</td>\n",
       "      <td>2518TC-LPT</td>\n",
       "      <td>HCV-TRUCKS</td>\n",
       "      <td>DIFFERENTIAL NOISY.</td>\n",
       "      <td>ON INVESTIGATION FOUND THE CROWN AND PINION TE...</td>\n",
       "      <td>AFFECTED PARTS REPLACED UNDER WARRANTY.DEFER.T...</td>\n",
       "      <td>MP20HB5022</td>\n",
       "      <td>1130 days</td>\n",
       "    </tr>\n",
       "  </tbody>\n",
       "</table>\n",
       "</div>"
      ],
      "text/plain": [
       "   index  id       KMS    SALE_DT  REPORT_DT  REPAIR_DT       MODEL  \\\n",
       "0      0   1  221928.0 2014-10-30 2017-10-22 2017-10-29  2518TC-LPT   \n",
       "1      3   4  185050.0 2014-02-28 2017-12-21 2017-12-21  3518TC-LPS   \n",
       "2     11  12  217890.0 2014-08-29 2017-12-21 2017-12-21  2518TC-LPT   \n",
       "3     14  15  150723.0 2015-08-25 2017-12-13 2017-12-14  2518TC-LPT   \n",
       "4     22  23  162639.0 2014-11-14 2017-12-18 2017-12-18  2518TC-LPT   \n",
       "\n",
       "    SUB_MODEL                                          CMPL_DESC  \\\n",
       "0  HCV-TRUCKS  VEHICLE HAS COME WITH COMPLAINT OIL LEACKEGE F...   \n",
       "1  HCV-TRUCKS                                DIFFERENTIAL NOISY.   \n",
       "2  HCV-TRUCKS  VEHICLE HAS BRAKEDOWN WITH CAC COMPLAINT REAR ...   \n",
       "3  HCV-TRUCKS                                ASSY GEAR BOX NOISY   \n",
       "4  HCV-TRUCKS                                DIFFERENTIAL NOISY.   \n",
       "\n",
       "                                       INVESTIGATION  \\\n",
       "0  AFTER INVESTIGATION WE FOUND MINOR CRAKE ON RE...   \n",
       "1  AFTER INVESTIGATION WE ARE FOUND THAT CROWN TA...   \n",
       "2  WE HAVE ATTEND THE VEHICLE ON SIDE FOUND THAT ...   \n",
       "3  VEHICLE CAME IN OUR WORKSHOP ASSY GEAR BOX NOI...   \n",
       "4  ON INVESTIGATION FOUND THE CROWN AND PINION TE...   \n",
       "\n",
       "                                        ACTION_TAKEN      REG_NO      diff  \n",
       "0  WE HAVE REPLACED REAR AXLE TUBE U/WARRANTYDEFE...   HR38U8155 1088 days  \n",
       "1                ALL JOB CARRIED OUT UNDER WARRANTY.   NL01L2162 1392 days  \n",
       "2  REPLACED REAR AXLE TUBE UNDER WARRANTYDEFER.TX...   UP82T2306 1210 days  \n",
       "3               REPLCED UNDER WARRANTYDEFER.TXT 0006  UP15CT2727  841 days  \n",
       "4  AFFECTED PARTS REPLACED UNDER WARRANTY.DEFER.T...  MP20HB5022 1130 days  "
      ]
     },
     "execution_count": 194,
     "metadata": {},
     "output_type": "execute_result"
    }
   ],
   "source": [
    "df.head()"
   ]
  },
  {
   "cell_type": "code",
   "execution_count": 195,
   "metadata": {},
   "outputs": [],
   "source": [
    "df['diff']=abs(df['diff'])"
   ]
  },
  {
   "cell_type": "code",
   "execution_count": 196,
   "metadata": {},
   "outputs": [
    {
     "data": {
      "text/html": [
       "<div>\n",
       "<style scoped>\n",
       "    .dataframe tbody tr th:only-of-type {\n",
       "        vertical-align: middle;\n",
       "    }\n",
       "\n",
       "    .dataframe tbody tr th {\n",
       "        vertical-align: top;\n",
       "    }\n",
       "\n",
       "    .dataframe thead th {\n",
       "        text-align: right;\n",
       "    }\n",
       "</style>\n",
       "<table border=\"1\" class=\"dataframe\">\n",
       "  <thead>\n",
       "    <tr style=\"text-align: right;\">\n",
       "      <th></th>\n",
       "      <th>index</th>\n",
       "      <th>id</th>\n",
       "      <th>KMS</th>\n",
       "      <th>SALE_DT</th>\n",
       "      <th>REPORT_DT</th>\n",
       "      <th>REPAIR_DT</th>\n",
       "      <th>MODEL</th>\n",
       "      <th>SUB_MODEL</th>\n",
       "      <th>CMPL_DESC</th>\n",
       "      <th>INVESTIGATION</th>\n",
       "      <th>ACTION_TAKEN</th>\n",
       "      <th>REG_NO</th>\n",
       "      <th>diff</th>\n",
       "    </tr>\n",
       "  </thead>\n",
       "  <tbody>\n",
       "    <tr>\n",
       "      <th>0</th>\n",
       "      <td>0</td>\n",
       "      <td>1</td>\n",
       "      <td>221928.0</td>\n",
       "      <td>2014-10-30</td>\n",
       "      <td>2017-10-22</td>\n",
       "      <td>2017-10-29</td>\n",
       "      <td>2518TC-LPT</td>\n",
       "      <td>HCV-TRUCKS</td>\n",
       "      <td>VEHICLE HAS COME WITH COMPLAINT OIL LEACKEGE F...</td>\n",
       "      <td>AFTER INVESTIGATION WE FOUND MINOR CRAKE ON RE...</td>\n",
       "      <td>WE HAVE REPLACED REAR AXLE TUBE U/WARRANTYDEFE...</td>\n",
       "      <td>HR38U8155</td>\n",
       "      <td>1088 days</td>\n",
       "    </tr>\n",
       "    <tr>\n",
       "      <th>1</th>\n",
       "      <td>3</td>\n",
       "      <td>4</td>\n",
       "      <td>185050.0</td>\n",
       "      <td>2014-02-28</td>\n",
       "      <td>2017-12-21</td>\n",
       "      <td>2017-12-21</td>\n",
       "      <td>3518TC-LPS</td>\n",
       "      <td>HCV-TRUCKS</td>\n",
       "      <td>DIFFERENTIAL NOISY.</td>\n",
       "      <td>AFTER INVESTIGATION WE ARE FOUND THAT CROWN TA...</td>\n",
       "      <td>ALL JOB CARRIED OUT UNDER WARRANTY.</td>\n",
       "      <td>NL01L2162</td>\n",
       "      <td>1392 days</td>\n",
       "    </tr>\n",
       "    <tr>\n",
       "      <th>2</th>\n",
       "      <td>11</td>\n",
       "      <td>12</td>\n",
       "      <td>217890.0</td>\n",
       "      <td>2014-08-29</td>\n",
       "      <td>2017-12-21</td>\n",
       "      <td>2017-12-21</td>\n",
       "      <td>2518TC-LPT</td>\n",
       "      <td>HCV-TRUCKS</td>\n",
       "      <td>VEHICLE HAS BRAKEDOWN WITH CAC COMPLAINT REAR ...</td>\n",
       "      <td>WE HAVE ATTEND THE VEHICLE ON SIDE FOUND THAT ...</td>\n",
       "      <td>REPLACED REAR AXLE TUBE UNDER WARRANTYDEFER.TX...</td>\n",
       "      <td>UP82T2306</td>\n",
       "      <td>1210 days</td>\n",
       "    </tr>\n",
       "    <tr>\n",
       "      <th>3</th>\n",
       "      <td>14</td>\n",
       "      <td>15</td>\n",
       "      <td>150723.0</td>\n",
       "      <td>2015-08-25</td>\n",
       "      <td>2017-12-13</td>\n",
       "      <td>2017-12-14</td>\n",
       "      <td>2518TC-LPT</td>\n",
       "      <td>HCV-TRUCKS</td>\n",
       "      <td>ASSY GEAR BOX NOISY</td>\n",
       "      <td>VEHICLE CAME IN OUR WORKSHOP ASSY GEAR BOX NOI...</td>\n",
       "      <td>REPLCED UNDER WARRANTYDEFER.TXT 0006</td>\n",
       "      <td>UP15CT2727</td>\n",
       "      <td>841 days</td>\n",
       "    </tr>\n",
       "    <tr>\n",
       "      <th>4</th>\n",
       "      <td>22</td>\n",
       "      <td>23</td>\n",
       "      <td>162639.0</td>\n",
       "      <td>2014-11-14</td>\n",
       "      <td>2017-12-18</td>\n",
       "      <td>2017-12-18</td>\n",
       "      <td>2518TC-LPT</td>\n",
       "      <td>HCV-TRUCKS</td>\n",
       "      <td>DIFFERENTIAL NOISY.</td>\n",
       "      <td>ON INVESTIGATION FOUND THE CROWN AND PINION TE...</td>\n",
       "      <td>AFFECTED PARTS REPLACED UNDER WARRANTY.DEFER.T...</td>\n",
       "      <td>MP20HB5022</td>\n",
       "      <td>1130 days</td>\n",
       "    </tr>\n",
       "  </tbody>\n",
       "</table>\n",
       "</div>"
      ],
      "text/plain": [
       "   index  id       KMS    SALE_DT  REPORT_DT  REPAIR_DT       MODEL  \\\n",
       "0      0   1  221928.0 2014-10-30 2017-10-22 2017-10-29  2518TC-LPT   \n",
       "1      3   4  185050.0 2014-02-28 2017-12-21 2017-12-21  3518TC-LPS   \n",
       "2     11  12  217890.0 2014-08-29 2017-12-21 2017-12-21  2518TC-LPT   \n",
       "3     14  15  150723.0 2015-08-25 2017-12-13 2017-12-14  2518TC-LPT   \n",
       "4     22  23  162639.0 2014-11-14 2017-12-18 2017-12-18  2518TC-LPT   \n",
       "\n",
       "    SUB_MODEL                                          CMPL_DESC  \\\n",
       "0  HCV-TRUCKS  VEHICLE HAS COME WITH COMPLAINT OIL LEACKEGE F...   \n",
       "1  HCV-TRUCKS                                DIFFERENTIAL NOISY.   \n",
       "2  HCV-TRUCKS  VEHICLE HAS BRAKEDOWN WITH CAC COMPLAINT REAR ...   \n",
       "3  HCV-TRUCKS                                ASSY GEAR BOX NOISY   \n",
       "4  HCV-TRUCKS                                DIFFERENTIAL NOISY.   \n",
       "\n",
       "                                       INVESTIGATION  \\\n",
       "0  AFTER INVESTIGATION WE FOUND MINOR CRAKE ON RE...   \n",
       "1  AFTER INVESTIGATION WE ARE FOUND THAT CROWN TA...   \n",
       "2  WE HAVE ATTEND THE VEHICLE ON SIDE FOUND THAT ...   \n",
       "3  VEHICLE CAME IN OUR WORKSHOP ASSY GEAR BOX NOI...   \n",
       "4  ON INVESTIGATION FOUND THE CROWN AND PINION TE...   \n",
       "\n",
       "                                        ACTION_TAKEN      REG_NO      diff  \n",
       "0  WE HAVE REPLACED REAR AXLE TUBE U/WARRANTYDEFE...   HR38U8155 1088 days  \n",
       "1                ALL JOB CARRIED OUT UNDER WARRANTY.   NL01L2162 1392 days  \n",
       "2  REPLACED REAR AXLE TUBE UNDER WARRANTYDEFER.TX...   UP82T2306 1210 days  \n",
       "3               REPLCED UNDER WARRANTYDEFER.TXT 0006  UP15CT2727  841 days  \n",
       "4  AFFECTED PARTS REPLACED UNDER WARRANTY.DEFER.T...  MP20HB5022 1130 days  "
      ]
     },
     "execution_count": 196,
     "metadata": {},
     "output_type": "execute_result"
    }
   ],
   "source": [
    "df.head()"
   ]
  },
  {
   "cell_type": "code",
   "execution_count": 197,
   "metadata": {},
   "outputs": [],
   "source": [
    "# Descriptive Analysis of Data"
   ]
  },
  {
   "cell_type": "code",
   "execution_count": 198,
   "metadata": {},
   "outputs": [
    {
     "data": {
      "text/plain": [
       "count                          47262\n",
       "mean     995 days 20:05:12.606322208\n",
       "std      271 days 20:48:58.345099928\n",
       "min                  7 days 00:00:00\n",
       "25%                808 days 00:00:00\n",
       "50%                992 days 00:00:00\n",
       "75%               1198 days 00:00:00\n",
       "max               1792 days 00:00:00\n",
       "Name: diff, dtype: object"
      ]
     },
     "execution_count": 198,
     "metadata": {},
     "output_type": "execute_result"
    }
   ],
   "source": [
    "df['diff'].describe()"
   ]
  },
  {
   "cell_type": "code",
   "execution_count": 199,
   "metadata": {},
   "outputs": [
    {
     "data": {
      "text/plain": [
       "False    47262\n",
       "True      2123\n",
       "Name: diff, dtype: int64"
      ]
     },
     "execution_count": 199,
     "metadata": {},
     "output_type": "execute_result"
    }
   ],
   "source": [
    "df['diff'].isnull().value_counts()"
   ]
  },
  {
   "cell_type": "code",
   "execution_count": 200,
   "metadata": {},
   "outputs": [],
   "source": [
    "df['diff'].fillna(df['diff'].median(),inplace=True)"
   ]
  },
  {
   "cell_type": "code",
   "execution_count": null,
   "metadata": {},
   "outputs": [],
   "source": [
    "x=df['diff'].dt.days"
   ]
  },
  {
   "cell_type": "code",
   "execution_count": null,
   "metadata": {},
   "outputs": [
    {
     "data": {
      "text/plain": [
       "0         1088\n",
       "1         1088\n",
       "2         1088\n",
       "3         1392\n",
       "4         1392\n",
       "          ... \n",
       "605921    1202\n",
       "605922    1303\n",
       "605923    1429\n",
       "605924     679\n",
       "605925     892\n",
       "Name: diff, Length: 605926, dtype: int64"
      ]
     },
     "execution_count": 74,
     "metadata": {},
     "output_type": "execute_result"
    }
   ],
   "source": [
    "x"
   ]
  },
  {
   "cell_type": "code",
   "execution_count": null,
   "metadata": {},
   "outputs": [],
   "source": [
    "# Histogram"
   ]
  },
  {
   "cell_type": "code",
   "execution_count": null,
   "metadata": {},
   "outputs": [
    {
     "data": {
      "text/plain": [
       "(array([   821.,   5912.,  17415.,  40310., 111277., 138386., 134473.,\n",
       "        115504.,  38168.,   3660.]),\n",
       " array([   7. ,  185.5,  364. ,  542.5,  721. ,  899.5, 1078. , 1256.5,\n",
       "        1435. , 1613.5, 1792. ]),\n",
       " <BarContainer object of 10 artists>)"
      ]
     },
     "execution_count": 57,
     "metadata": {},
     "output_type": "execute_result"
    },
    {
     "data": {
      "image/png": "[encoded data removed]",
      "text/plain": [
       "<Figure size 432x288 with 1 Axes>"
      ]
     },
     "metadata": {
      "needs_background": "light"
     },
     "output_type": "display_data"
    }
   ],
   "source": [
    "plt.hist(x)"
   ]
  },
  {
   "cell_type": "code",
   "execution_count": null,
   "metadata": {},
   "outputs": [
    {
     "data": {
      "text/plain": [
       "<AxesSubplot:>"
      ]
     },
     "execution_count": 58,
     "metadata": {},
     "output_type": "execute_result"
    },
    {
     "data": {
      "image/png": "[encoded data removed]",
      "text/plain": [
       "<Figure size 432x288 with 1 Axes>"
      ]
     },
     "metadata": {
      "needs_background": "light"
     },
     "output_type": "display_data"
    }
   ],
   "source": [
    "x.hist()"
   ]
  },
  {
   "cell_type": "code",
   "execution_count": null,
   "metadata": {},
   "outputs": [],
   "source": [
    "# Distributionplot"
   ]
  },
  {
   "cell_type": "code",
   "execution_count": null,
   "metadata": {},
   "outputs": [
    {
     "name": "stderr",
     "output_type": "stream",
     "text": [
      "D:\\ProgramData\\Anaconda3\\lib\\site-packages\\seaborn\\distributions.py:2619: FutureWarning: `distplot` is a deprecated function and will be removed in a future version. Please adapt your code to use either `displot` (a figure-level function with similar flexibility) or `histplot` (an axes-level function for histograms).\n",
      "  warnings.warn(msg, FutureWarning)\n"
     ]
    },
    {
     "data": {
      "text/plain": [
       "<AxesSubplot:xlabel='diff', ylabel='Density'>"
      ]
     },
     "execution_count": 60,
     "metadata": {},
     "output_type": "execute_result"
    },
    {
     "data": {
      "image/png": "[encoded data removed]",
      "text/plain": [
       "<Figure size 432x288 with 1 Axes>"
      ]
     },
     "metadata": {
      "needs_background": "light"
     },
     "output_type": "display_data"
    }
   ],
   "source": [
    "sns.distplot(x)"
   ]
  },
  {
   "cell_type": "code",
   "execution_count": null,
   "metadata": {},
   "outputs": [
    {
     "data": {
      "text/plain": [
       "{'whiskers': [<matplotlib.lines.Line2D at 0x2046ae943d0>,\n",
       "  <matplotlib.lines.Line2D at 0x2046ae94760>],\n",
       " 'caps': [<matplotlib.lines.Line2D at 0x2046ae94af0>,\n",
       "  <matplotlib.lines.Line2D at 0x2046ae94e80>],\n",
       " 'boxes': [<matplotlib.lines.Line2D at 0x2046ae94040>],\n",
       " 'medians': [<matplotlib.lines.Line2D at 0x2046ae9f250>],\n",
       " 'fliers': [<matplotlib.lines.Line2D at 0x2046ae9f5e0>],\n",
       " 'means': []}"
      ]
     },
     "execution_count": 65,
     "metadata": {},
     "output_type": "execute_result"
    },
    {
     "data": {
      "image/png": "[encoded data removed]",
      "text/plain": [
       "<Figure size 432x288 with 1 Axes>"
      ]
     },
     "metadata": {
      "needs_background": "light"
     },
     "output_type": "display_data"
    }
   ],
   "source": [
    "plt.boxplot(df['diff'],vert=False)"
   ]
  },
  {
   "cell_type": "code",
   "execution_count": null,
   "metadata": {},
   "outputs": [],
   "source": [
    "# 2. Make a statistical analysis of the time difference between the report and the repair dates over the entire data. Make a suitable histogram \n",
    "# representation, a distribution plot (a continuous curve depicting of the results), and a box plot of the results."
   ]
  },
  {
   "cell_type": "code",
   "execution_count": null,
   "metadata": {},
   "outputs": [],
   "source": [
    "df['diff2'] = abs(df['REPAIR_DT'] - df['REPORT_DT'])"
   ]
  },
  {
   "cell_type": "code",
   "execution_count": null,
   "metadata": {},
   "outputs": [
    {
     "data": {
      "text/plain": [
       "False    593658\n",
       "True      12268\n",
       "Name: diff2, dtype: int64"
      ]
     },
     "execution_count": 85,
     "metadata": {},
     "output_type": "execute_result"
    }
   ],
   "source": [
    "df['diff2'].isnull().value_counts()"
   ]
  },
  {
   "cell_type": "code",
   "execution_count": null,
   "metadata": {},
   "outputs": [],
   "source": [
    "df['diff2'].fillna(df['diff2'].median(),inplace=True)"
   ]
  },
  {
   "cell_type": "code",
   "execution_count": null,
   "metadata": {},
   "outputs": [
    {
     "data": {
      "text/plain": [
       "count                        605926\n",
       "mean     30 days 22:14:34.063169430\n",
       "std      61 days 00:35:28.059379673\n",
       "min                 0 days 00:00:00\n",
       "25%                 0 days 00:00:00\n",
       "50%                 2 days 00:00:00\n",
       "75%                31 days 00:00:00\n",
       "max               729 days 00:00:00\n",
       "Name: diff2, dtype: object"
      ]
     },
     "execution_count": 87,
     "metadata": {},
     "output_type": "execute_result"
    }
   ],
   "source": [
    "df['diff2'].describe()"
   ]
  },
  {
   "cell_type": "code",
   "execution_count": null,
   "metadata": {},
   "outputs": [
    {
     "data": {
      "text/plain": [
       "False    605926\n",
       "Name: diff2, dtype: int64"
      ]
     },
     "execution_count": 88,
     "metadata": {},
     "output_type": "execute_result"
    }
   ],
   "source": [
    "df['diff2'].isnull().value_counts()"
   ]
  },
  {
   "cell_type": "code",
   "execution_count": null,
   "metadata": {},
   "outputs": [],
   "source": [
    "y=abs(df['diff2'])"
   ]
  },
  {
   "cell_type": "code",
   "execution_count": null,
   "metadata": {},
   "outputs": [],
   "source": [
    "y=y.dt.days"
   ]
  },
  {
   "cell_type": "markdown",
   "metadata": {},
   "source": [
    "Histogram"
   ]
  },
  {
   "cell_type": "code",
   "execution_count": null,
   "metadata": {},
   "outputs": [
    {
     "data": {
      "text/plain": [
       "<AxesSubplot:>"
      ]
     },
     "execution_count": 77,
     "metadata": {},
     "output_type": "execute_result"
    },
    {
     "data": {
      "image/png": "[encoded data removed]",
      "text/plain": [
       "<Figure size 432x288 with 1 Axes>"
      ]
     },
     "metadata": {
      "needs_background": "light"
     },
     "output_type": "display_data"
    }
   ],
   "source": [
    "y.hist()"
   ]
  },
  {
   "cell_type": "code",
   "execution_count": null,
   "metadata": {},
   "outputs": [],
   "source": [
    "#Distribution Plot"
   ]
  },
  {
   "cell_type": "code",
   "execution_count": null,
   "metadata": {},
   "outputs": [
    {
     "name": "stderr",
     "output_type": "stream",
     "text": [
      "D:\\ProgramData\\Anaconda3\\lib\\site-packages\\seaborn\\distributions.py:2619: FutureWarning: `distplot` is a deprecated function and will be removed in a future version. Please adapt your code to use either `displot` (a figure-level function with similar flexibility) or `histplot` (an axes-level function for histograms).\n",
      "  warnings.warn(msg, FutureWarning)\n"
     ]
    },
    {
     "data": {
      "text/plain": [
       "<AxesSubplot:xlabel='diff2', ylabel='Density'>"
      ]
     },
     "execution_count": 81,
     "metadata": {},
     "output_type": "execute_result"
    },
    {
     "data": {
      "image/png": "[encoded data removed]",
      "text/plain": [
       "<Figure size 432x288 with 1 Axes>"
      ]
     },
     "metadata": {
      "needs_background": "light"
     },
     "output_type": "display_data"
    }
   ],
   "source": [
    "sns.distplot(y)"
   ]
  },
  {
   "cell_type": "code",
   "execution_count": null,
   "metadata": {},
   "outputs": [],
   "source": [
    "#Boxplot"
   ]
  },
  {
   "cell_type": "code",
   "execution_count": null,
   "metadata": {},
   "outputs": [
    {
     "data": {
      "text/plain": [
       "{'whiskers': [<matplotlib.lines.Line2D at 0x2046bcfe730>,\n",
       "  <matplotlib.lines.Line2D at 0x2046bcfeb50>],\n",
       " 'caps': [<matplotlib.lines.Line2D at 0x2046bcfe8b0>,\n",
       "  <matplotlib.lines.Line2D at 0x2046bcfee80>],\n",
       " 'boxes': [<matplotlib.lines.Line2D at 0x2046c6cd670>],\n",
       " 'medians': [<matplotlib.lines.Line2D at 0x2046bcfeaf0>],\n",
       " 'fliers': [<matplotlib.lines.Line2D at 0x2046bd05130>],\n",
       " 'means': []}"
      ]
     },
     "execution_count": 82,
     "metadata": {},
     "output_type": "execute_result"
    },
    {
     "data": {
      "image/png": "[encoded data removed]",
      "text/plain": [
       "<Figure size 432x288 with 1 Axes>"
      ]
     },
     "metadata": {
      "needs_background": "light"
     },
     "output_type": "display_data"
    }
   ],
   "source": [
    "plt.boxplot(y,vert=False)"
   ]
  },
  {
   "cell_type": "code",
   "execution_count": null,
   "metadata": {},
   "outputs": [],
   "source": [
    "# 3. Make the analysis in Q1 and Q2 for the state \"Maharashtra\", Karnataka, and West Bengal. What are the salienet differences do you observe in the results of the \n",
    "# three states?"
   ]
  },
  {
   "cell_type": "code",
   "execution_count": null,
   "metadata": {},
   "outputs": [],
   "source": [
    "df['REG_NO'].fillna(0,inplace=True) #0 inplace of null values"
   ]
  },
  {
   "cell_type": "code",
   "execution_count": null,
   "metadata": {},
   "outputs": [],
   "source": [
    "df['STATEID'] = df['REG_NO'].str[0:2]"
   ]
  },
  {
   "cell_type": "code",
   "execution_count": null,
   "metadata": {},
   "outputs": [
    {
     "data": {
      "text/plain": [
       "0         HR\n",
       "1         HR\n",
       "2         HR\n",
       "3         NL\n",
       "4         NL\n",
       "          ..\n",
       "605921    RJ\n",
       "605922    RJ\n",
       "605923    NL\n",
       "605924    RJ\n",
       "605925    TS\n",
       "Name: STATEID, Length: 605926, dtype: object"
      ]
     },
     "execution_count": 145,
     "metadata": {},
     "output_type": "execute_result"
    }
   ],
   "source": [
    "df['STATEID']"
   ]
  },
  {
   "cell_type": "code",
   "execution_count": null,
   "metadata": {},
   "outputs": [
    {
     "data": {
      "text/html": [
       "<div>\n",
       "<style scoped>\n",
       "    .dataframe tbody tr th:only-of-type {\n",
       "        vertical-align: middle;\n",
       "    }\n",
       "\n",
       "    .dataframe tbody tr th {\n",
       "        vertical-align: top;\n",
       "    }\n",
       "\n",
       "    .dataframe thead th {\n",
       "        text-align: right;\n",
       "    }\n",
       "</style>\n",
       "<table border=\"1\" class=\"dataframe\">\n",
       "  <thead>\n",
       "    <tr style=\"text-align: right;\">\n",
       "      <th></th>\n",
       "      <th>id</th>\n",
       "      <th>KMS</th>\n",
       "      <th>SALE_DT</th>\n",
       "      <th>REPORT_DT</th>\n",
       "      <th>REPAIR_DT</th>\n",
       "      <th>MODEL</th>\n",
       "      <th>SUB_MODEL</th>\n",
       "      <th>CMPL_DESC</th>\n",
       "      <th>INVESTIGATION</th>\n",
       "      <th>ACTION_TAKEN</th>\n",
       "      <th>REG_NO</th>\n",
       "      <th>diff</th>\n",
       "      <th>diff2</th>\n",
       "      <th>STATEID</th>\n",
       "    </tr>\n",
       "  </thead>\n",
       "  <tbody>\n",
       "    <tr>\n",
       "      <th>0</th>\n",
       "      <td>1</td>\n",
       "      <td>221928.0</td>\n",
       "      <td>2014-10-30</td>\n",
       "      <td>2017-10-22</td>\n",
       "      <td>2017-10-29</td>\n",
       "      <td>2518TC-LPT</td>\n",
       "      <td>HCV-TRUCKS</td>\n",
       "      <td>VEHICLE HAS COME WITH COMPLAINT OIL LEACKEGE F...</td>\n",
       "      <td>AFTER INVESTIGATION WE FOUND MINOR CRAKE ON RE...</td>\n",
       "      <td>WE HAVE REPLACED REAR AXLE TUBE U/WARRANTYDEFE...</td>\n",
       "      <td>HR38U8155</td>\n",
       "      <td>1088 days</td>\n",
       "      <td>7 days</td>\n",
       "      <td>HR</td>\n",
       "    </tr>\n",
       "    <tr>\n",
       "      <th>1</th>\n",
       "      <td>2</td>\n",
       "      <td>221928.0</td>\n",
       "      <td>2014-10-30</td>\n",
       "      <td>2017-10-22</td>\n",
       "      <td>2017-10-29</td>\n",
       "      <td>2518TC-LPT</td>\n",
       "      <td>HCV-TRUCKS</td>\n",
       "      <td>VEHICLE HAS COME WITH COMPLAINT OIL LEACKEGE F...</td>\n",
       "      <td>AFTER INVESTIGATION WE FOUND MINOR CRAKE ON RE...</td>\n",
       "      <td>WE HAVE REPLACED REAR AXLE TUBE U/WARRANTYDEFE...</td>\n",
       "      <td>HR38U8155</td>\n",
       "      <td>1088 days</td>\n",
       "      <td>7 days</td>\n",
       "      <td>HR</td>\n",
       "    </tr>\n",
       "    <tr>\n",
       "      <th>2</th>\n",
       "      <td>3</td>\n",
       "      <td>221928.0</td>\n",
       "      <td>2014-10-30</td>\n",
       "      <td>2017-10-22</td>\n",
       "      <td>2017-10-29</td>\n",
       "      <td>2518TC-LPT</td>\n",
       "      <td>HCV-TRUCKS</td>\n",
       "      <td>VEHICLE HAS COME WITH COMPLAINT OIL LEACKEGE F...</td>\n",
       "      <td>AFTER INVESTIGATION WE FOUND MINOR CRAKE ON RE...</td>\n",
       "      <td>WE HAVE REPLACED REAR AXLE TUBE U/WARRANTYDEFE...</td>\n",
       "      <td>HR38U8155</td>\n",
       "      <td>1088 days</td>\n",
       "      <td>7 days</td>\n",
       "      <td>HR</td>\n",
       "    </tr>\n",
       "    <tr>\n",
       "      <th>3</th>\n",
       "      <td>4</td>\n",
       "      <td>185050.0</td>\n",
       "      <td>2014-02-28</td>\n",
       "      <td>2017-12-21</td>\n",
       "      <td>2017-12-21</td>\n",
       "      <td>3518TC-LPS</td>\n",
       "      <td>HCV-TRUCKS</td>\n",
       "      <td>DIFFERENTIAL NOISY.</td>\n",
       "      <td>AFTER INVESTIGATION WE ARE FOUND THAT CROWN TA...</td>\n",
       "      <td>ALL JOB CARRIED OUT UNDER WARRANTY.</td>\n",
       "      <td>NL01L2162</td>\n",
       "      <td>1392 days</td>\n",
       "      <td>0 days</td>\n",
       "      <td>NL</td>\n",
       "    </tr>\n",
       "    <tr>\n",
       "      <th>4</th>\n",
       "      <td>5</td>\n",
       "      <td>185050.0</td>\n",
       "      <td>2014-02-28</td>\n",
       "      <td>2017-12-21</td>\n",
       "      <td>2017-12-21</td>\n",
       "      <td>3518TC-LPS</td>\n",
       "      <td>HCV-TRUCKS</td>\n",
       "      <td>DIFFERENTIAL NOISY.</td>\n",
       "      <td>AFTER INVESTIGATION WE ARE FOUND THAT CROWN TA...</td>\n",
       "      <td>ALL JOB CARRIED OUT UNDER WARRANTY.</td>\n",
       "      <td>NL01L2162</td>\n",
       "      <td>1392 days</td>\n",
       "      <td>0 days</td>\n",
       "      <td>NL</td>\n",
       "    </tr>\n",
       "    <tr>\n",
       "      <th>...</th>\n",
       "      <td>...</td>\n",
       "      <td>...</td>\n",
       "      <td>...</td>\n",
       "      <td>...</td>\n",
       "      <td>...</td>\n",
       "      <td>...</td>\n",
       "      <td>...</td>\n",
       "      <td>...</td>\n",
       "      <td>...</td>\n",
       "      <td>...</td>\n",
       "      <td>...</td>\n",
       "      <td>...</td>\n",
       "      <td>...</td>\n",
       "      <td>...</td>\n",
       "    </tr>\n",
       "    <tr>\n",
       "      <th>605921</th>\n",
       "      <td>1172640</td>\n",
       "      <td>285610.0</td>\n",
       "      <td>2015-12-25</td>\n",
       "      <td>2019-04-10</td>\n",
       "      <td>2019-09-10</td>\n",
       "      <td>4018TC-LPS</td>\n",
       "      <td>NaN</td>\n",
       "      <td>ENGINE JAM AND NOISY</td>\n",
       "      <td>VEHICLE REPORT WITH COMPLAINT OF ENGINE JAM TH...</td>\n",
       "      <td>AFFECTED PARTS CHANGE - UNDER WARRANTY</td>\n",
       "      <td>RJ07GC1861</td>\n",
       "      <td>1202 days</td>\n",
       "      <td>153 days</td>\n",
       "      <td>RJ</td>\n",
       "    </tr>\n",
       "    <tr>\n",
       "      <th>605922</th>\n",
       "      <td>1172641</td>\n",
       "      <td>220125.0</td>\n",
       "      <td>2015-10-15</td>\n",
       "      <td>2019-05-10</td>\n",
       "      <td>2019-10-10</td>\n",
       "      <td>2518TC-LPT</td>\n",
       "      <td>NaN</td>\n",
       "      <td>HEOC PROBLEMAUTHORIZATION REQUEST NO-1-1232844...</td>\n",
       "      <td>SUBJECT VEHICLE REPORTED TO OUR WORKSHOP FOR H...</td>\n",
       "      <td>ASSY AND HEAD ASSY AFTER INVESTIGATION AND FOU...</td>\n",
       "      <td>RJ40GA0918</td>\n",
       "      <td>1303 days</td>\n",
       "      <td>153 days</td>\n",
       "      <td>RJ</td>\n",
       "    </tr>\n",
       "    <tr>\n",
       "      <th>605923</th>\n",
       "      <td>1172642</td>\n",
       "      <td>75894.0</td>\n",
       "      <td>2015-09-21</td>\n",
       "      <td>2019-08-20</td>\n",
       "      <td>2019-08-24</td>\n",
       "      <td>3118TC-LPT</td>\n",
       "      <td>NaN</td>\n",
       "      <td>GEAR BOX NOISY</td>\n",
       "      <td>THE CUSTOMER CALL US WITH COMPLAINT OF GEAR BO...</td>\n",
       "      <td>HENCE WE REPLACED THE UNDER WARRANTYDEFER.TXT ...</td>\n",
       "      <td>NL01N2106</td>\n",
       "      <td>1429 days</td>\n",
       "      <td>4 days</td>\n",
       "      <td>NL</td>\n",
       "    </tr>\n",
       "    <tr>\n",
       "      <th>605924</th>\n",
       "      <td>1172643</td>\n",
       "      <td>205596.0</td>\n",
       "      <td>2017-11-09</td>\n",
       "      <td>2019-09-19</td>\n",
       "      <td>2019-09-20</td>\n",
       "      <td>SIGNA4923.S</td>\n",
       "      <td>NaN</td>\n",
       "      <td>GEAR NOISY</td>\n",
       "      <td>GEAR OIL QUANTITY AND QUALITY FOUND OK. SYNCHR...</td>\n",
       "      <td>REPLACED U/WDEFER.TXT 0002</td>\n",
       "      <td>RJ02GB6624</td>\n",
       "      <td>679 days</td>\n",
       "      <td>1 days</td>\n",
       "      <td>RJ</td>\n",
       "    </tr>\n",
       "    <tr>\n",
       "      <th>605925</th>\n",
       "      <td>1172644</td>\n",
       "      <td>104137.0</td>\n",
       "      <td>2017-06-30</td>\n",
       "      <td>2019-12-09</td>\n",
       "      <td>2019-09-21</td>\n",
       "      <td>3118TC-LPT</td>\n",
       "      <td>NaN</td>\n",
       "      <td>GEAR BOX NOISE</td>\n",
       "      <td>ATTENDED DEPUTATION CAC NO122029246344 CHECKED...</td>\n",
       "      <td>HENCE WE REPLACED GEAR BOX EFFECTIVE PARTS AND...</td>\n",
       "      <td>TS30T2355</td>\n",
       "      <td>892 days</td>\n",
       "      <td>79 days</td>\n",
       "      <td>TS</td>\n",
       "    </tr>\n",
       "  </tbody>\n",
       "</table>\n",
       "<p>605926 rows × 14 columns</p>\n",
       "</div>"
      ],
      "text/plain": [
       "             id       KMS    SALE_DT  REPORT_DT  REPAIR_DT        MODEL  \\\n",
       "0             1  221928.0 2014-10-30 2017-10-22 2017-10-29   2518TC-LPT   \n",
       "1             2  221928.0 2014-10-30 2017-10-22 2017-10-29   2518TC-LPT   \n",
       "2             3  221928.0 2014-10-30 2017-10-22 2017-10-29   2518TC-LPT   \n",
       "3             4  185050.0 2014-02-28 2017-12-21 2017-12-21   3518TC-LPS   \n",
       "4             5  185050.0 2014-02-28 2017-12-21 2017-12-21   3518TC-LPS   \n",
       "...         ...       ...        ...        ...        ...          ...   \n",
       "605921  1172640  285610.0 2015-12-25 2019-04-10 2019-09-10   4018TC-LPS   \n",
       "605922  1172641  220125.0 2015-10-15 2019-05-10 2019-10-10   2518TC-LPT   \n",
       "605923  1172642   75894.0 2015-09-21 2019-08-20 2019-08-24   3118TC-LPT   \n",
       "605924  1172643  205596.0 2017-11-09 2019-09-19 2019-09-20  SIGNA4923.S   \n",
       "605925  1172644  104137.0 2017-06-30 2019-12-09 2019-09-21   3118TC-LPT   \n",
       "\n",
       "         SUB_MODEL                                          CMPL_DESC  \\\n",
       "0       HCV-TRUCKS  VEHICLE HAS COME WITH COMPLAINT OIL LEACKEGE F...   \n",
       "1       HCV-TRUCKS  VEHICLE HAS COME WITH COMPLAINT OIL LEACKEGE F...   \n",
       "2       HCV-TRUCKS  VEHICLE HAS COME WITH COMPLAINT OIL LEACKEGE F...   \n",
       "3       HCV-TRUCKS                                DIFFERENTIAL NOISY.   \n",
       "4       HCV-TRUCKS                                DIFFERENTIAL NOISY.   \n",
       "...            ...                                                ...   \n",
       "605921         NaN                               ENGINE JAM AND NOISY   \n",
       "605922         NaN  HEOC PROBLEMAUTHORIZATION REQUEST NO-1-1232844...   \n",
       "605923         NaN                                     GEAR BOX NOISY   \n",
       "605924         NaN                                         GEAR NOISY   \n",
       "605925         NaN                                     GEAR BOX NOISE   \n",
       "\n",
       "                                            INVESTIGATION  \\\n",
       "0       AFTER INVESTIGATION WE FOUND MINOR CRAKE ON RE...   \n",
       "1       AFTER INVESTIGATION WE FOUND MINOR CRAKE ON RE...   \n",
       "2       AFTER INVESTIGATION WE FOUND MINOR CRAKE ON RE...   \n",
       "3       AFTER INVESTIGATION WE ARE FOUND THAT CROWN TA...   \n",
       "4       AFTER INVESTIGATION WE ARE FOUND THAT CROWN TA...   \n",
       "...                                                   ...   \n",
       "605921  VEHICLE REPORT WITH COMPLAINT OF ENGINE JAM TH...   \n",
       "605922  SUBJECT VEHICLE REPORTED TO OUR WORKSHOP FOR H...   \n",
       "605923  THE CUSTOMER CALL US WITH COMPLAINT OF GEAR BO...   \n",
       "605924  GEAR OIL QUANTITY AND QUALITY FOUND OK. SYNCHR...   \n",
       "605925  ATTENDED DEPUTATION CAC NO122029246344 CHECKED...   \n",
       "\n",
       "                                             ACTION_TAKEN      REG_NO  \\\n",
       "0       WE HAVE REPLACED REAR AXLE TUBE U/WARRANTYDEFE...   HR38U8155   \n",
       "1       WE HAVE REPLACED REAR AXLE TUBE U/WARRANTYDEFE...   HR38U8155   \n",
       "2       WE HAVE REPLACED REAR AXLE TUBE U/WARRANTYDEFE...   HR38U8155   \n",
       "3                     ALL JOB CARRIED OUT UNDER WARRANTY.   NL01L2162   \n",
       "4                     ALL JOB CARRIED OUT UNDER WARRANTY.   NL01L2162   \n",
       "...                                                   ...         ...   \n",
       "605921             AFFECTED PARTS CHANGE - UNDER WARRANTY  RJ07GC1861   \n",
       "605922  ASSY AND HEAD ASSY AFTER INVESTIGATION AND FOU...  RJ40GA0918   \n",
       "605923  HENCE WE REPLACED THE UNDER WARRANTYDEFER.TXT ...   NL01N2106   \n",
       "605924                         REPLACED U/WDEFER.TXT 0002  RJ02GB6624   \n",
       "605925  HENCE WE REPLACED GEAR BOX EFFECTIVE PARTS AND...   TS30T2355   \n",
       "\n",
       "            diff    diff2 STATEID  \n",
       "0      1088 days   7 days      HR  \n",
       "1      1088 days   7 days      HR  \n",
       "2      1088 days   7 days      HR  \n",
       "3      1392 days   0 days      NL  \n",
       "4      1392 days   0 days      NL  \n",
       "...          ...      ...     ...  \n",
       "605921 1202 days 153 days      RJ  \n",
       "605922 1303 days 153 days      RJ  \n",
       "605923 1429 days   4 days      NL  \n",
       "605924  679 days   1 days      RJ  \n",
       "605925  892 days  79 days      TS  \n",
       "\n",
       "[605926 rows x 14 columns]"
      ]
     },
     "execution_count": 146,
     "metadata": {},
     "output_type": "execute_result"
    }
   ],
   "source": [
    "df"
   ]
  },
  {
   "cell_type": "code",
   "execution_count": null,
   "metadata": {},
   "outputs": [],
   "source": [
    "# create 3 dataframes for Maharashtra,WestBengal and Karnataka\n",
    "dfmh=df[df['STATEID']==\"MH\"]\n",
    "dfwb=df[df['STATEID']==\"WB\"] \n",
    "dfka=df[df['STATEID']==\"KA\"]"
   ]
  },
  {
   "cell_type": "code",
   "execution_count": null,
   "metadata": {},
   "outputs": [
    {
     "data": {
      "text/plain": [
       "<AxesSubplot:>"
      ]
     },
     "execution_count": 157,
     "metadata": {},
     "output_type": "execute_result"
    },
    {
     "data": {
      "image/png": "[encoded data removed]",
      "text/plain": [
       "<Figure size 432x288 with 1 Axes>"
      ]
     },
     "metadata": {
      "needs_background": "light"
     },
     "output_type": "display_data"
    }
   ],
   "source": [
    "(dfmh['diff']).dt.days.hist()"
   ]
  },
  {
   "cell_type": "code",
   "execution_count": null,
   "metadata": {},
   "outputs": [
    {
     "name": "stderr",
     "output_type": "stream",
     "text": [
      "D:\\ProgramData\\Anaconda3\\lib\\site-packages\\seaborn\\distributions.py:2619: FutureWarning: `distplot` is a deprecated function and will be removed in a future version. Please adapt your code to use either `displot` (a figure-level function with similar flexibility) or `histplot` (an axes-level function for histograms).\n",
      "  warnings.warn(msg, FutureWarning)\n"
     ]
    },
    {
     "data": {
      "text/plain": [
       "<AxesSubplot:xlabel='diff', ylabel='Density'>"
      ]
     },
     "execution_count": 158,
     "metadata": {},
     "output_type": "execute_result"
    },
    {
     "data": {
      "image/png": "[encoded data removed]",
      "text/plain": [
       "<Figure size 432x288 with 1 Axes>"
      ]
     },
     "metadata": {
      "needs_background": "light"
     },
     "output_type": "display_data"
    }
   ],
   "source": [
    "sns.distplot(dfmh['diff'].dt.days)"
   ]
  },
  {
   "cell_type": "code",
   "execution_count": null,
   "metadata": {},
   "outputs": [
    {
     "data": {
      "text/plain": [
       "{'whiskers': [<matplotlib.lines.Line2D at 0x2048512cd00>,\n",
       "  <matplotlib.lines.Line2D at 0x2048bd380d0>],\n",
       " 'caps': [<matplotlib.lines.Line2D at 0x2048bd38460>,\n",
       "  <matplotlib.lines.Line2D at 0x2048bd387f0>],\n",
       " 'boxes': [<matplotlib.lines.Line2D at 0x2048512c970>],\n",
       " 'medians': [<matplotlib.lines.Line2D at 0x2048bd38b80>],\n",
       " 'fliers': [<matplotlib.lines.Line2D at 0x2048bd38f10>],\n",
       " 'means': []}"
      ]
     },
     "execution_count": 168,
     "metadata": {},
     "output_type": "execute_result"
    },
    {
     "data": {
      "image/png": "[encoded data removed]",
      "text/plain": [
       "<Figure size 432x288 with 1 Axes>"
      ]
     },
     "metadata": {
      "needs_background": "light"
     },
     "output_type": "display_data"
    }
   ],
   "source": [
    "plt.boxplot(dfmh['diff'].dt.days,vert=False)"
   ]
  },
  {
   "cell_type": "code",
   "execution_count": null,
   "metadata": {},
   "outputs": [
    {
     "data": {
      "text/plain": [
       "<AxesSubplot:>"
      ]
     },
     "execution_count": 159,
     "metadata": {},
     "output_type": "execute_result"
    },
    {
     "data": {
      "image/png": "[encoded data removed]",
      "text/plain": [
       "<Figure size 432x288 with 1 Axes>"
      ]
     },
     "metadata": {
      "needs_background": "light"
     },
     "output_type": "display_data"
    }
   ],
   "source": [
    "(dfwb['diff']).dt.days.hist()"
   ]
  },
  {
   "cell_type": "code",
   "execution_count": null,
   "metadata": {},
   "outputs": [
    {
     "name": "stderr",
     "output_type": "stream",
     "text": [
      "D:\\ProgramData\\Anaconda3\\lib\\site-packages\\seaborn\\distributions.py:2619: FutureWarning: `distplot` is a deprecated function and will be removed in a future version. Please adapt your code to use either `displot` (a figure-level function with similar flexibility) or `histplot` (an axes-level function for histograms).\n",
      "  warnings.warn(msg, FutureWarning)\n"
     ]
    },
    {
     "data": {
      "text/plain": [
       "<AxesSubplot:xlabel='diff', ylabel='Density'>"
      ]
     },
     "execution_count": 160,
     "metadata": {},
     "output_type": "execute_result"
    },
    {
     "data": {
      "image/png": "[encoded data removed]",
      "text/plain": [
       "<Figure size 432x288 with 1 Axes>"
      ]
     },
     "metadata": {
      "needs_background": "light"
     },
     "output_type": "display_data"
    }
   ],
   "source": [
    "sns.distplot(dfwb['diff'].dt.days)"
   ]
  },
  {
   "cell_type": "code",
   "execution_count": null,
   "metadata": {},
   "outputs": [
    {
     "data": {
      "text/plain": [
       "{'whiskers': [<matplotlib.lines.Line2D at 0x2048a037250>,\n",
       "  <matplotlib.lines.Line2D at 0x2048a0375e0>],\n",
       " 'caps': [<matplotlib.lines.Line2D at 0x2048a037910>,\n",
       "  <matplotlib.lines.Line2D at 0x2048a037ca0>],\n",
       " 'boxes': [<matplotlib.lines.Line2D at 0x2048a058e80>],\n",
       " 'medians': [<matplotlib.lines.Line2D at 0x204855a2070>],\n",
       " 'fliers': [<matplotlib.lines.Line2D at 0x204855a2400>],\n",
       " 'means': []}"
      ]
     },
     "execution_count": 169,
     "metadata": {},
     "output_type": "execute_result"
    },
    {
     "data": {
      "image/png": "[encoded data removed]",
      "text/plain": [
       "<Figure size 432x288 with 1 Axes>"
      ]
     },
     "metadata": {
      "needs_background": "light"
     },
     "output_type": "display_data"
    }
   ],
   "source": [
    "plt.boxplot(dfwb['diff'].dt.days,vert=False)"
   ]
  },
  {
   "cell_type": "code",
   "execution_count": null,
   "metadata": {},
   "outputs": [
    {
     "data": {
      "text/plain": [
       "<AxesSubplot:>"
      ]
     },
     "execution_count": 161,
     "metadata": {},
     "output_type": "execute_result"
    },
    {
     "data": {
      "image/png": "[encoded data removed]",
      "text/plain": [
       "<Figure size 432x288 with 1 Axes>"
      ]
     },
     "metadata": {
      "needs_background": "light"
     },
     "output_type": "display_data"
    }
   ],
   "source": [
    "(dfka['diff']).dt.days.hist()"
   ]
  },
  {
   "cell_type": "code",
   "execution_count": null,
   "metadata": {},
   "outputs": [
    {
     "name": "stderr",
     "output_type": "stream",
     "text": [
      "D:\\ProgramData\\Anaconda3\\lib\\site-packages\\seaborn\\distributions.py:2619: FutureWarning: `distplot` is a deprecated function and will be removed in a future version. Please adapt your code to use either `displot` (a figure-level function with similar flexibility) or `histplot` (an axes-level function for histograms).\n",
      "  warnings.warn(msg, FutureWarning)\n"
     ]
    },
    {
     "data": {
      "text/plain": [
       "<AxesSubplot:xlabel='diff', ylabel='Density'>"
      ]
     },
     "execution_count": 162,
     "metadata": {},
     "output_type": "execute_result"
    },
    {
     "data": {
      "image/png": "[encoded data removed]",
      "text/plain": [
       "<Figure size 432x288 with 1 Axes>"
      ]
     },
     "metadata": {
      "needs_background": "light"
     },
     "output_type": "display_data"
    }
   ],
   "source": [
    "sns.distplot(dfka['diff'].dt.days)"
   ]
  },
  {
   "cell_type": "code",
   "execution_count": null,
   "metadata": {},
   "outputs": [
    {
     "data": {
      "text/plain": [
       "{'whiskers': [<matplotlib.lines.Line2D at 0x204844206d0>,\n",
       "  <matplotlib.lines.Line2D at 0x20484420a60>],\n",
       " 'caps': [<matplotlib.lines.Line2D at 0x20484420df0>,\n",
       "  <matplotlib.lines.Line2D at 0x20440b1e1c0>],\n",
       " 'boxes': [<matplotlib.lines.Line2D at 0x20484420340>],\n",
       " 'medians': [<matplotlib.lines.Line2D at 0x20440b1e550>],\n",
       " 'fliers': [<matplotlib.lines.Line2D at 0x20440b1e8e0>],\n",
       " 'means': []}"
      ]
     },
     "execution_count": 170,
     "metadata": {},
     "output_type": "execute_result"
    },
    {
     "data": {
      "image/png": "[encoded data removed]",
      "text/plain": [
       "<Figure size 432x288 with 1 Axes>"
      ]
     },
     "metadata": {
      "needs_background": "light"
     },
     "output_type": "display_data"
    }
   ],
   "source": [
    "plt.boxplot(dfka['diff'].dt.days,vert=False)"
   ]
  },
  {
   "cell_type": "code",
   "execution_count": null,
   "metadata": {},
   "outputs": [
    {
     "data": {
      "text/plain": [
       "count    31981.000000\n",
       "mean      1039.813983\n",
       "std        269.628108\n",
       "min         41.000000\n",
       "25%        859.000000\n",
       "50%       1054.000000\n",
       "75%       1247.000000\n",
       "max       1748.000000\n",
       "Name: diff, dtype: float64"
      ]
     },
     "execution_count": 164,
     "metadata": {},
     "output_type": "execute_result"
    }
   ],
   "source": [
    "dfmh['diff'].dt.days.describe()"
   ]
  },
  {
   "cell_type": "code",
   "execution_count": null,
   "metadata": {},
   "outputs": [
    {
     "data": {
      "text/plain": [
       "count    11038.000000\n",
       "mean       979.211361\n",
       "std        269.504885\n",
       "min         42.000000\n",
       "25%        794.000000\n",
       "50%        982.000000\n",
       "75%       1168.000000\n",
       "max       1737.000000\n",
       "Name: diff, dtype: float64"
      ]
     },
     "execution_count": 165,
     "metadata": {},
     "output_type": "execute_result"
    }
   ],
   "source": [
    "dfwb['diff'].dt.days.describe()"
   ]
  },
  {
   "cell_type": "code",
   "execution_count": null,
   "metadata": {},
   "outputs": [
    {
     "data": {
      "text/plain": [
       "count    15180.000000\n",
       "mean      1086.479578\n",
       "std        284.280376\n",
       "min        188.000000\n",
       "25%        876.000000\n",
       "50%       1095.000000\n",
       "75%       1320.000000\n",
       "max       1763.000000\n",
       "Name: diff, dtype: float64"
      ]
     },
     "execution_count": 166,
     "metadata": {},
     "output_type": "execute_result"
    }
   ],
   "source": [
    "dfka['diff'].dt.days.describe()"
   ]
  },
  {
   "cell_type": "code",
   "execution_count": null,
   "metadata": {},
   "outputs": [],
   "source": [
    "# From all the above data we draw the following observations.Maharashtra  has the highest amount of datapoints.Here we see that minimum time diffrence of karnataka is much better than Maharashtra and West Bengal.Also mean of time diffrence in Karnataka is higher.\n",
    "# This maybe an indicator that quality of cars sold in karnataka is better than other states as time since canr bought and it firts showed problem is higher here which is good."
   ]
  },
  {
   "cell_type": "code",
   "execution_count": null,
   "metadata": {},
   "outputs": [],
   "source": []
  },
  {
   "cell_type": "code",
   "execution_count": null,
   "metadata": {},
   "outputs": [
    {
     "data": {
      "text/plain": [
       "<AxesSubplot:>"
      ]
     },
     "execution_count": 172,
     "metadata": {},
     "output_type": "execute_result"
    },
    {
     "data": {
      "image/png": "[encoded data removed]",
      "text/plain": [
       "<Figure size 432x288 with 1 Axes>"
      ]
     },
     "metadata": {
      "needs_background": "light"
     },
     "output_type": "display_data"
    }
   ],
   "source": [
    "(dfmh['diff2']).dt.days.hist()"
   ]
  },
  {
   "cell_type": "code",
   "execution_count": null,
   "metadata": {},
   "outputs": [
    {
     "name": "stderr",
     "output_type": "stream",
     "text": [
      "D:\\ProgramData\\Anaconda3\\lib\\site-packages\\seaborn\\distributions.py:2619: FutureWarning: `distplot` is a deprecated function and will be removed in a future version. Please adapt your code to use either `displot` (a figure-level function with similar flexibility) or `histplot` (an axes-level function for histograms).\n",
      "  warnings.warn(msg, FutureWarning)\n"
     ]
    },
    {
     "data": {
      "text/plain": [
       "<AxesSubplot:xlabel='diff2', ylabel='Density'>"
      ]
     },
     "execution_count": 173,
     "metadata": {},
     "output_type": "execute_result"
    },
    {
     "data": {
      "image/png": "[encoded data removed]",
      "text/plain": [
       "<Figure size 432x288 with 1 Axes>"
      ]
     },
     "metadata": {
      "needs_background": "light"
     },
     "output_type": "display_data"
    }
   ],
   "source": [
    "sns.distplot(dfmh['diff2'].dt.days)"
   ]
  },
  {
   "cell_type": "code",
   "execution_count": null,
   "metadata": {},
   "outputs": [
    {
     "data": {
      "text/plain": [
       "{'whiskers': [<matplotlib.lines.Line2D at 0x204819582b0>,\n",
       "  <matplotlib.lines.Line2D at 0x20481958640>],\n",
       " 'caps': [<matplotlib.lines.Line2D at 0x204819589d0>,\n",
       "  <matplotlib.lines.Line2D at 0x20481958d60>],\n",
       " 'boxes': [<matplotlib.lines.Line2D at 0x2048127eee0>],\n",
       " 'medians': [<matplotlib.lines.Line2D at 0x20483f64130>],\n",
       " 'fliers': [<matplotlib.lines.Line2D at 0x20483f644c0>],\n",
       " 'means': []}"
      ]
     },
     "execution_count": 174,
     "metadata": {},
     "output_type": "execute_result"
    },
    {
     "data": {
      "image/png": "[encoded data removed]",
      "text/plain": [
       "<Figure size 432x288 with 1 Axes>"
      ]
     },
     "metadata": {
      "needs_background": "light"
     },
     "output_type": "display_data"
    }
   ],
   "source": [
    "plt.boxplot(dfmh['diff2'].dt.days,vert=False)"
   ]
  },
  {
   "cell_type": "code",
   "execution_count": null,
   "metadata": {},
   "outputs": [
    {
     "data": {
      "text/plain": [
       "<AxesSubplot:>"
      ]
     },
     "execution_count": 175,
     "metadata": {},
     "output_type": "execute_result"
    },
    {
     "data": {
      "image/png": "[encoded data removed]",
      "text/plain": [
       "<Figure size 432x288 with 1 Axes>"
      ]
     },
     "metadata": {
      "needs_background": "light"
     },
     "output_type": "display_data"
    }
   ],
   "source": [
    "(dfwb['diff2']).dt.days.hist()"
   ]
  },
  {
   "cell_type": "code",
   "execution_count": null,
   "metadata": {},
   "outputs": [
    {
     "name": "stderr",
     "output_type": "stream",
     "text": [
      "D:\\ProgramData\\Anaconda3\\lib\\site-packages\\seaborn\\distributions.py:2619: FutureWarning: `distplot` is a deprecated function and will be removed in a future version. Please adapt your code to use either `displot` (a figure-level function with similar flexibility) or `histplot` (an axes-level function for histograms).\n",
      "  warnings.warn(msg, FutureWarning)\n"
     ]
    },
    {
     "data": {
      "text/plain": [
       "<AxesSubplot:xlabel='diff2', ylabel='Density'>"
      ]
     },
     "execution_count": 176,
     "metadata": {},
     "output_type": "execute_result"
    },
    {
     "data": {
      "image/png": "[encoded data removed]",
      "text/plain": [
       "<Figure size 432x288 with 1 Axes>"
      ]
     },
     "metadata": {
      "needs_background": "light"
     },
     "output_type": "display_data"
    }
   ],
   "source": [
    "sns.distplot(dfwb['diff2'].dt.days)"
   ]
  },
  {
   "cell_type": "code",
   "execution_count": null,
   "metadata": {},
   "outputs": [
    {
     "data": {
      "text/plain": [
       "{'whiskers': [<matplotlib.lines.Line2D at 0x2048c4c58b0>,\n",
       "  <matplotlib.lines.Line2D at 0x2048c4c5c40>],\n",
       " 'caps': [<matplotlib.lines.Line2D at 0x2048c4c5fd0>,\n",
       "  <matplotlib.lines.Line2D at 0x2048ad1b3a0>],\n",
       " 'boxes': [<matplotlib.lines.Line2D at 0x2048c4c5520>],\n",
       " 'medians': [<matplotlib.lines.Line2D at 0x2048ad1b730>],\n",
       " 'fliers': [<matplotlib.lines.Line2D at 0x2048ad1bac0>],\n",
       " 'means': []}"
      ]
     },
     "execution_count": 177,
     "metadata": {},
     "output_type": "execute_result"
    },
    {
     "data": {
      "image/png": "[encoded data removed]",
      "text/plain": [
       "<Figure size 432x288 with 1 Axes>"
      ]
     },
     "metadata": {
      "needs_background": "light"
     },
     "output_type": "display_data"
    }
   ],
   "source": [
    "plt.boxplot(dfwb['diff2'].dt.days,vert=False)"
   ]
  },
  {
   "cell_type": "code",
   "execution_count": null,
   "metadata": {},
   "outputs": [
    {
     "data": {
      "text/plain": [
       "<AxesSubplot:>"
      ]
     },
     "execution_count": 178,
     "metadata": {},
     "output_type": "execute_result"
    },
    {
     "data": {
      "image/png": "[encoded data removed]",
      "text/plain": [
       "<Figure size 432x288 with 1 Axes>"
      ]
     },
     "metadata": {
      "needs_background": "light"
     },
     "output_type": "display_data"
    }
   ],
   "source": [
    "(dfka['diff2']).dt.days.hist()"
   ]
  },
  {
   "cell_type": "code",
   "execution_count": null,
   "metadata": {},
   "outputs": [
    {
     "name": "stderr",
     "output_type": "stream",
     "text": [
      "D:\\ProgramData\\Anaconda3\\lib\\site-packages\\seaborn\\distributions.py:2619: FutureWarning: `distplot` is a deprecated function and will be removed in a future version. Please adapt your code to use either `displot` (a figure-level function with similar flexibility) or `histplot` (an axes-level function for histograms).\n",
      "  warnings.warn(msg, FutureWarning)\n"
     ]
    },
    {
     "data": {
      "text/plain": [
       "<AxesSubplot:xlabel='diff2', ylabel='Density'>"
      ]
     },
     "execution_count": 179,
     "metadata": {},
     "output_type": "execute_result"
    },
    {
     "data": {
      "image/png": "[encoded data removed]",
      "text/plain": [
       "<Figure size 432x288 with 1 Axes>"
      ]
     },
     "metadata": {
      "needs_background": "light"
     },
     "output_type": "display_data"
    }
   ],
   "source": [
    "sns.distplot(dfka['diff2'].dt.days)"
   ]
  },
  {
   "cell_type": "code",
   "execution_count": null,
   "metadata": {},
   "outputs": [
    {
     "data": {
      "text/plain": [
       "{'whiskers': [<matplotlib.lines.Line2D at 0x2048b9ed6a0>,\n",
       "  <matplotlib.lines.Line2D at 0x2048b9eda30>],\n",
       " 'caps': [<matplotlib.lines.Line2D at 0x2048b9eddc0>,\n",
       "  <matplotlib.lines.Line2D at 0x2048b9ba190>],\n",
       " 'boxes': [<matplotlib.lines.Line2D at 0x2048b9ed310>],\n",
       " 'medians': [<matplotlib.lines.Line2D at 0x2048b9ba520>],\n",
       " 'fliers': [<matplotlib.lines.Line2D at 0x2048b9ba8b0>],\n",
       " 'means': []}"
      ]
     },
     "execution_count": 181,
     "metadata": {},
     "output_type": "execute_result"
    },
    {
     "data": {
      "image/png": "[encoded data removed]",
      "text/plain": [
       "<Figure size 432x288 with 1 Axes>"
      ]
     },
     "metadata": {
      "needs_background": "light"
     },
     "output_type": "display_data"
    }
   ],
   "source": [
    "plt.boxplot(dfka['diff2'].dt.days,vert=False)"
   ]
  },
  {
   "cell_type": "code",
   "execution_count": 204,
   "metadata": {},
   "outputs": [
    {
     "data": {
      "text/plain": [
       "count    31981.000000\n",
       "mean        43.847785\n",
       "std         70.523033\n",
       "min          0.000000\n",
       "25%          1.000000\n",
       "50%          6.000000\n",
       "75%         59.000000\n",
       "max        566.000000\n",
       "Name: diff2, dtype: float64"
      ]
     },
     "execution_count": 204,
     "metadata": {},
     "output_type": "execute_result"
    }
   ],
   "source": [
    "dfmh['diff2'].dt.days.describe()"
   ]
  },
  {
   "cell_type": "code",
   "execution_count": 203,
   "metadata": {},
   "outputs": [
    {
     "data": {
      "text/plain": [
       "count    11038.000000\n",
       "mean        27.636438\n",
       "std         58.335428\n",
       "min          0.000000\n",
       "25%          0.000000\n",
       "50%          1.000000\n",
       "75%         30.000000\n",
       "max        324.000000\n",
       "Name: diff2, dtype: float64"
      ]
     },
     "execution_count": 203,
     "metadata": {},
     "output_type": "execute_result"
    }
   ],
   "source": [
    "dfwb['diff2'].dt.days.describe()"
   ]
  },
  {
   "cell_type": "code",
   "execution_count": 202,
   "metadata": {},
   "outputs": [
    {
     "data": {
      "text/plain": [
       "count    15180.000000\n",
       "mean        38.051383\n",
       "std         67.952440\n",
       "min          0.000000\n",
       "25%          0.000000\n",
       "50%          2.000000\n",
       "75%         38.000000\n",
       "max        402.000000\n",
       "Name: diff2, dtype: float64"
      ]
     },
     "execution_count": 202,
     "metadata": {},
     "output_type": "execute_result"
    }
   ],
   "source": [
    "dfka['diff2'].dt.days.describe()"
   ]
  },
  {
   "cell_type": "code",
   "execution_count": null,
   "metadata": {},
   "outputs": [],
   "source": [
    "# From all the above data we draw the following observations.Maharashtra has the highest amount of datapoints.Also mean between repair and problem report date is highest and also standard deviation and max values indicating the spread and range of data is huge there.\n",
    "# This may me due to the fact that as there arew more number of reports in Maharashtra, so the repair time taken since reporting first started is more on average."
   ]
  },
  {
   "cell_type": "code",
   "execution_count": null,
   "metadata": {},
   "outputs": [],
   "source": [
    "# Also combined inference may be drwn as such.Maharashtra has a higher population thana that of Karnataka and West Bengal as per general knoiwledge.So number of vehicles is more.We observe \n",
    "# from the data above as no of  reports from Maharashtra is very high.Also Karnataka has the better quality vehicles sold as they develop problems later than the other 2 states.Maharashtra having a higher no \n",
    "# of reports showed us that the tiem period of problem solving since it first occured is more.This may happen due to queueing problem.\n"
   ]
  },
  {
   "cell_type": "code",
   "execution_count": null,
   "metadata": {},
   "outputs": [],
   "source": [
    "# 4. How many unique types of vehicle  models are there in the data and what are their respective counts?"
   ]
  },
  {
   "cell_type": "code",
   "execution_count": null,
   "metadata": {},
   "outputs": [
    {
     "data": {
      "text/plain": [
       "116"
      ]
     },
     "execution_count": 119,
     "metadata": {},
     "output_type": "execute_result"
    }
   ],
   "source": [
    "df['MODEL'].nunique()"
   ]
  },
  {
   "cell_type": "code",
   "execution_count": null,
   "metadata": {},
   "outputs": [
    {
     "data": {
      "text/plain": [
       "4018TC-LPS         173209\n",
       "3118TC-LPT         107161\n",
       "2518TC-LPT          65132\n",
       "3718TC-LPT-10X2     35645\n",
       "2518TC-LPK          32506\n",
       "                    ...  \n",
       "1615TC -LPK             3\n",
       "1615TCLPK               3\n",
       "PRIMA2528               2\n",
       "PRIMA-3128K             2\n",
       "1212TC-SA-4X4           2\n",
       "Name: MODEL, Length: 116, dtype: int64"
      ]
     },
     "execution_count": 120,
     "metadata": {},
     "output_type": "execute_result"
    }
   ],
   "source": [
    "df['MODEL'].value_counts()"
   ]
  },
  {
   "cell_type": "code",
   "execution_count": null,
   "metadata": {},
   "outputs": [],
   "source": [
    "# 5. How many unique types of vehicles are there in the dataset and what are their respective counts?"
   ]
  },
  {
   "cell_type": "code",
   "execution_count": null,
   "metadata": {},
   "outputs": [
    {
     "data": {
      "text/plain": [
       "41"
      ]
     },
     "execution_count": 121,
     "metadata": {},
     "output_type": "execute_result"
    }
   ],
   "source": [
    "df['SUB_MODEL'].nunique()"
   ]
  },
  {
   "cell_type": "code",
   "execution_count": null,
   "metadata": {},
   "outputs": [
    {
     "data": {
      "text/plain": [
       "HCV-TRUCKS           90890\n",
       "HCV                  14983\n",
       "4018TC-LPS           14589\n",
       "3118TC-LPT            8028\n",
       "MCV-TRUCKS            5574\n",
       "2518TC-LPT            4716\n",
       "2518TC-LPK            2308\n",
       "4923TC-LPS-6X4        1975\n",
       "3718TC-LPT-10X2       1641\n",
       "1618TC-LPK            1212\n",
       "2518TC-LPK-6X4        1148\n",
       "2523TC-LPK-6X4         584\n",
       "3518TC-LPS             523\n",
       "1613-LPT               493\n",
       "PRIMA-LX-4023S         408\n",
       "2518TC-LPK-HD-6X4      364\n",
       "3118TC-LPK             362\n",
       "1615TC-LPT             334\n",
       "MCV                    322\n",
       "PRIMA-LX-4923S         163\n",
       "PRIMA-LX-2523K         151\n",
       "PRIMA-LX-3123K         111\n",
       "3118TC-LPK-8X4         108\n",
       "2518TC-LPTK            106\n",
       "1613-LPK                92\n",
       "2518TC-LPK-RMC          72\n",
       "1613-SK                 56\n",
       "3723TC-LPT              53\n",
       "2523TC-LPK-HD-6X4       49\n",
       "1613-SFC                41\n",
       "PRIMA-LX-4028S          31\n",
       "PRIMA-LX-2523T          21\n",
       "MCV-TRUCK               17\n",
       "PRIMA-LX-2528K          16\n",
       "1613-SE                 14\n",
       "PRIMA-LX-3123T          14\n",
       "PRIMA-2528K             11\n",
       "2523TC-HD-LPK            9\n",
       "1613TC-LPT               8\n",
       "3118TC-LPTK-8X2          7\n",
       "3118TC-LPK-8X2           6\n",
       "Name: SUB_MODEL, dtype: int64"
      ]
     },
     "execution_count": 122,
     "metadata": {},
     "output_type": "execute_result"
    }
   ],
   "source": [
    "df['SUB_MODEL'].value_counts()"
   ]
  },
  {
   "cell_type": "code",
   "execution_count": null,
   "metadata": {},
   "outputs": [],
   "source": [
    "# 6. How many types of \"complaint descriptions\" are there? What are their respective counts?"
   ]
  },
  {
   "cell_type": "code",
   "execution_count": null,
   "metadata": {},
   "outputs": [
    {
     "data": {
      "text/plain": [
       "15333"
      ]
     },
     "execution_count": 126,
     "metadata": {},
     "output_type": "execute_result"
    }
   ],
   "source": [
    "df['CMPL_DESC'].nunique()"
   ]
  },
  {
   "cell_type": "code",
   "execution_count": null,
   "metadata": {},
   "outputs": [
    {
     "data": {
      "text/plain": [
       "GEAR BOX NOISY                                      106506\n",
       "GEAR BOX NOISY.                                      38368\n",
       "DIFFERENTIAL NOISY                                   37044\n",
       "DIFF NOISY                                           14464\n",
       "DIFFERENTIAL NOISY.                                  11980\n",
       "                                                     ...  \n",
       "RR RHS SIDE AXLE SHAFT BROKEN                            1\n",
       "Vehicle Reported with a complaint of Diff-Noisy.         1\n",
       "REAR AXLE BEAM LEAKAGE                                   1\n",
       "EAR AXLE OIL LEAKAGE                                     1\n",
       "Engine oil leak                                          1\n",
       "Name: CMPL_DESC, Length: 15333, dtype: int64"
      ]
     },
     "execution_count": 142,
     "metadata": {},
     "output_type": "execute_result"
    }
   ],
   "source": [
    "df['CMPL_DESC'].value_counts()"
   ]
  },
  {
   "cell_type": "code",
   "execution_count": null,
   "metadata": {},
   "outputs": [],
   "source": [
    "# 7.Counting Frequency of Words in the Description"
   ]
  },
  {
   "cell_type": "code",
   "execution_count": null,
   "metadata": {},
   "outputs": [
    {
     "data": {
      "text/plain": [
       "0         [VEHICLE, HAS, COME, WITH, COMPLAINT, OIL, LEA...\n",
       "1         [VEHICLE, HAS, COME, WITH, COMPLAINT, OIL, LEA...\n",
       "2         [VEHICLE, HAS, COME, WITH, COMPLAINT, OIL, LEA...\n",
       "3                                    [DIFFERENTIAL, NOISY.]\n",
       "4                                    [DIFFERENTIAL, NOISY.]\n",
       "                                ...                        \n",
       "605921                            [ENGINE, JAM, AND, NOISY]\n",
       "605922    [HEOC, PROBLEMAUTHORIZATION, REQUEST, NO-1-123...\n",
       "605923                                   [GEAR, BOX, NOISY]\n",
       "605924                                        [GEAR, NOISY]\n",
       "605925                                   [GEAR, BOX, NOISE]\n",
       "Name: CMPL_DESC, Length: 605926, dtype: object"
      ]
     },
     "execution_count": 138,
     "metadata": {},
     "output_type": "execute_result"
    }
   ],
   "source": [
    "df['CMPL_DESC'].str.split()"
   ]
  },
  {
   "cell_type": "code",
   "execution_count": null,
   "metadata": {},
   "outputs": [
    {
     "data": {
      "text/plain": [
       "0           VEHICLE\n",
       "0               HAS\n",
       "0              COME\n",
       "0              WITH\n",
       "0         COMPLAINT\n",
       "            ...    \n",
       "605924         GEAR\n",
       "605924        NOISY\n",
       "605925         GEAR\n",
       "605925          BOX\n",
       "605925        NOISE\n",
       "Name: CMPL_DESC, Length: 2867732, dtype: object"
      ]
     },
     "execution_count": 139,
     "metadata": {},
     "output_type": "execute_result"
    }
   ],
   "source": [
    "df['CMPL_DESC'].str.split().explode()"
   ]
  },
  {
   "cell_type": "code",
   "execution_count": null,
   "metadata": {},
   "outputs": [
    {
     "data": {
      "text/plain": [
       "GEAR                  334416\n",
       "NOISY                 279916\n",
       "BOX                   245516\n",
       "NOISE                  89194\n",
       "NOISY.                 87532\n",
       "                       ...  \n",
       "2.Exhuast                  1\n",
       "NO.516202VY4C5072.         1\n",
       "AVRAGE                     1\n",
       "Work                       1\n",
       "consumpon                  1\n",
       "Name: CMPL_DESC, Length: 11974, dtype: int64"
      ]
     },
     "execution_count": 140,
     "metadata": {},
     "output_type": "execute_result"
    }
   ],
   "source": [
    "df['CMPL_DESC'].str.split().explode().value_counts()"
   ]
  },
  {
   "cell_type": "code",
   "execution_count": null,
   "metadata": {},
   "outputs": [
    {
     "data": {
      "text/plain": [
       "GEAR            334416\n",
       "NOISY           279916\n",
       "BOX             245516\n",
       "NOISE            89194\n",
       "NOISY.           87532\n",
       "ENGINE           84975\n",
       "DIFFERENTIAL     70995\n",
       "AND              69457\n",
       "FROM             55037\n",
       "OIL              48628\n",
       "Name: CMPL_DESC, dtype: int64"
      ]
     },
     "execution_count": 141,
     "metadata": {},
     "output_type": "execute_result"
    }
   ],
   "source": [
    "df['CMPL_DESC'].str.split().explode().value_counts().head(10)"
   ]
  },
  {
   "cell_type": "code",
   "execution_count": null,
   "metadata": {},
   "outputs": [],
   "source": []
  }
 ],
 "metadata": {
  "interpreter": {
   "hash": "1cdfb2a952b024acaf7d2adceaa86bafbf6f5e8cf875f3028b15a2fa9d72e139"
  },
  "kernelspec": {
   "display_name": "Python 3.10.1 64-bit",
   "language": "python",
   "name": "python3"
  },
  "language_info": {
   "codemirror_mode": {
    "name": "ipython",
    "version": 3
   },
   "file_extension": ".py",
   "mimetype": "text/x-python",
   "name": "python",
   "nbconvert_exporter": "python",
   "pygments_lexer": "ipython3",
   "version": "3.9.7"
  },
  "orig_nbformat": 4
 },
 "nbformat": 4,
 "nbformat_minor": 2
}
